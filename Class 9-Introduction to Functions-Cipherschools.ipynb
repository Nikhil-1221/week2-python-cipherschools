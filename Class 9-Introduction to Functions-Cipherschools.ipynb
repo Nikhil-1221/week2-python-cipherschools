{
 "cells": [
  {
   "cell_type": "code",
   "execution_count": 49,
   "metadata": {},
   "outputs": [],
   "source": [
    "x =6\n",
    "x = 'Nikhil'\n",
    "x = 1.5\n",
    "x = print"
   ]
  },
  {
   "cell_type": "code",
   "execution_count": 50,
   "metadata": {},
   "outputs": [
    {
     "name": "stdout",
     "output_type": "stream",
     "text": [
      "12\n",
      "Waiting......\n",
      "Waiting......\n",
      "Waiting......\n",
      "Loading......\n",
      "Loading......\n",
      "Loading......\n",
      "-2\n",
      "Waiting......\n",
      "Waiting......\n",
      "Waiting......\n",
      "Loading......\n",
      "Loading......\n",
      "Loading......\n",
      "35\n",
      "Waiting......\n",
      "Waiting......\n",
      "Waiting......\n",
      "Loading......\n",
      "Loading......\n",
      "Loading......\n"
     ]
    }
   ],
   "source": [
    "a = 5\n",
    "b = 7\n",
    "\n",
    "print(a+b)\n",
    "print(\"Waiting......\")\n",
    "print(\"Waiting......\")\n",
    "print(\"Waiting......\")\n",
    "print(\"Loading......\")\n",
    "print(\"Loading......\")\n",
    "print(\"Loading......\")\n",
    "\n",
    "print(a-b)\n",
    "print(\"Waiting......\")\n",
    "print(\"Waiting......\")\n",
    "print(\"Waiting......\")\n",
    "print(\"Loading......\")\n",
    "print(\"Loading......\")\n",
    "print(\"Loading......\")\n",
    "\n",
    "print(a*b)\n",
    "print(\"Waiting......\")\n",
    "print(\"Waiting......\")\n",
    "print(\"Waiting......\")\n",
    "print(\"Loading......\")\n",
    "print(\"Loading......\")\n",
    "print(\"Loading......\")"
   ]
  },
  {
   "cell_type": "code",
   "execution_count": 51,
   "metadata": {},
   "outputs": [],
   "source": [
    "def show_loading():\n",
    "    for __ in range(3):\n",
    "        print(\"Loading......\")"
   ]
  },
  {
   "cell_type": "code",
   "execution_count": 52,
   "metadata": {},
   "outputs": [
    {
     "name": "stdout",
     "output_type": "stream",
     "text": [
      "12\n",
      "Loading......\n",
      "Loading......\n",
      "Loading......\n",
      "-2\n",
      "Loading......\n",
      "Loading......\n",
      "Loading......\n",
      "35\n",
      "Loading......\n",
      "Loading......\n",
      "Loading......\n"
     ]
    }
   ],
   "source": [
    "a = 5\n",
    "b = 7\n",
    "\n",
    "print(a+b)\n",
    "show_loading()\n",
    "\n",
    "print(a-b)\n",
    "show_loading()\n",
    "\n",
    "print(a*b)\n",
    "show_loading()"
   ]
  },
  {
   "cell_type": "code",
   "execution_count": 53,
   "metadata": {},
   "outputs": [],
   "source": [
    "def show_loading():\n",
    "    for _ in range(3):\n",
    "        print(_)\n",
    "        print(\"Loading......\")"
   ]
  },
  {
   "cell_type": "code",
   "execution_count": 54,
   "metadata": {},
   "outputs": [
    {
     "name": "stdout",
     "output_type": "stream",
     "text": [
      "12\n",
      "0\n",
      "Loading......\n",
      "1\n",
      "Loading......\n",
      "2\n",
      "Loading......\n",
      "-2\n",
      "0\n",
      "Loading......\n",
      "1\n",
      "Loading......\n",
      "2\n",
      "Loading......\n",
      "35\n",
      "0\n",
      "Loading......\n",
      "1\n",
      "Loading......\n",
      "2\n",
      "Loading......\n"
     ]
    }
   ],
   "source": [
    "a = 5\n",
    "b = 7\n",
    "\n",
    "print(a+b)\n",
    "show_loading()\n",
    "\n",
    "print(a-b)\n",
    "show_loading()\n",
    "\n",
    "print(a*b)\n",
    "show_loading()"
   ]
  },
  {
   "cell_type": "code",
   "execution_count": 55,
   "metadata": {},
   "outputs": [],
   "source": [
    "def show_loading():\n",
    "    for i in range(3):\n",
    "        print(\"Loading\" , \".\"*(i+1))"
   ]
  },
  {
   "cell_type": "code",
   "execution_count": 56,
   "metadata": {},
   "outputs": [
    {
     "name": "stdout",
     "output_type": "stream",
     "text": [
      "12\n",
      "Loading .\n",
      "Loading ..\n",
      "Loading ...\n",
      "-2\n",
      "Loading .\n",
      "Loading ..\n",
      "Loading ...\n",
      "35\n",
      "Loading .\n",
      "Loading ..\n",
      "Loading ...\n"
     ]
    }
   ],
   "source": [
    "a = 5\n",
    "b = 7\n",
    "\n",
    "print(a+b)\n",
    "show_loading()\n",
    "\n",
    "print(a-b)\n",
    "show_loading()\n",
    "\n",
    "print(a*b)\n",
    "show_loading()"
   ]
  },
  {
   "cell_type": "code",
   "execution_count": 57,
   "metadata": {},
   "outputs": [],
   "source": [
    "def sheldon_knock():\n",
    "    for _ in range(3):\n",
    "        print(\"Knock Knock Knock penny\")"
   ]
  },
  {
   "cell_type": "code",
   "execution_count": 58,
   "metadata": {},
   "outputs": [
    {
     "name": "stdout",
     "output_type": "stream",
     "text": [
      "Knock Knock Knock penny\n",
      "Knock Knock Knock penny\n",
      "Knock Knock Knock penny\n"
     ]
    }
   ],
   "source": [
    "sheldon_knock()"
   ]
  },
  {
   "cell_type": "code",
   "execution_count": 59,
   "metadata": {},
   "outputs": [],
   "source": [
    "def sheldon_knock(name):\n",
    "    for _ in range(3):\n",
    "        print(\"Knock Knock Knock\" , name)"
   ]
  },
  {
   "cell_type": "code",
   "execution_count": 60,
   "metadata": {},
   "outputs": [
    {
     "name": "stdout",
     "output_type": "stream",
     "text": [
      "Knock Knock Knock Nikhil\n",
      "Knock Knock Knock Nikhil\n",
      "Knock Knock Knock Nikhil\n"
     ]
    }
   ],
   "source": [
    "sheldon_knock(\"Nikhil\")"
   ]
  },
  {
   "cell_type": "code",
   "execution_count": 61,
   "metadata": {},
   "outputs": [],
   "source": [
    "def sheldon_knock(name , time = 3):\n",
    "    for _ in range(time):\n",
    "        print(\"Knock Knock Knock\" , name)"
   ]
  },
  {
   "cell_type": "code",
   "execution_count": 62,
   "metadata": {},
   "outputs": [
    {
     "name": "stdout",
     "output_type": "stream",
     "text": [
      "Knock Knock Knock Surabhi Dey\n",
      "Knock Knock Knock Surabhi Dey\n",
      "Knock Knock Knock Surabhi Dey\n",
      "Knock Knock Knock Surabhi Dey\n",
      "Knock Knock Knock Surabhi Dey\n",
      "Knock Knock Knock Surabhi Dey\n",
      "Knock Knock Knock Surabhi Dey\n",
      "Knock Knock Knock Surabhi Dey\n",
      "Knock Knock Knock Surabhi Dey\n",
      "Knock Knock Knock Surabhi Dey\n",
      "Knock Knock Knock Surabhi Dey\n",
      "Knock Knock Knock Surabhi Dey\n",
      "Knock Knock Knock Surabhi Dey\n",
      "Knock Knock Knock Surabhi Dey\n",
      "Knock Knock Knock Surabhi Dey\n",
      "Knock Knock Knock Surabhi Dey\n",
      "Knock Knock Knock Surabhi Dey\n",
      "Knock Knock Knock Surabhi Dey\n",
      "Knock Knock Knock Surabhi Dey\n",
      "Knock Knock Knock Surabhi Dey\n",
      "Knock Knock Knock Surabhi Dey\n",
      "Knock Knock Knock Surabhi Dey\n",
      "Knock Knock Knock Surabhi Dey\n",
      "Knock Knock Knock Surabhi Dey\n",
      "Knock Knock Knock Surabhi Dey\n",
      "Knock Knock Knock Surabhi Dey\n",
      "Knock Knock Knock Surabhi Dey\n",
      "Knock Knock Knock Surabhi Dey\n",
      "Knock Knock Knock Surabhi Dey\n",
      "Knock Knock Knock Surabhi Dey\n",
      "Knock Knock Knock Surabhi Dey\n",
      "Knock Knock Knock Surabhi Dey\n",
      "Knock Knock Knock Surabhi Dey\n",
      "Knock Knock Knock Surabhi Dey\n",
      "Knock Knock Knock Surabhi Dey\n",
      "Knock Knock Knock Surabhi Dey\n",
      "Knock Knock Knock Surabhi Dey\n",
      "Knock Knock Knock Surabhi Dey\n",
      "Knock Knock Knock Surabhi Dey\n",
      "Knock Knock Knock Surabhi Dey\n",
      "Knock Knock Knock Surabhi Dey\n",
      "Knock Knock Knock Surabhi Dey\n",
      "Knock Knock Knock Surabhi Dey\n",
      "Knock Knock Knock Surabhi Dey\n",
      "Knock Knock Knock Surabhi Dey\n",
      "Knock Knock Knock Surabhi Dey\n",
      "Knock Knock Knock Surabhi Dey\n",
      "Knock Knock Knock Surabhi Dey\n",
      "Knock Knock Knock Surabhi Dey\n",
      "Knock Knock Knock Surabhi Dey\n",
      "Knock Knock Knock Surabhi Dey\n",
      "Knock Knock Knock Surabhi Dey\n",
      "Knock Knock Knock Surabhi Dey\n",
      "Knock Knock Knock Surabhi Dey\n",
      "Knock Knock Knock Surabhi Dey\n",
      "Knock Knock Knock Surabhi Dey\n",
      "Knock Knock Knock Surabhi Dey\n",
      "Knock Knock Knock Surabhi Dey\n",
      "Knock Knock Knock Surabhi Dey\n",
      "Knock Knock Knock Surabhi Dey\n",
      "Knock Knock Knock Surabhi Dey\n",
      "Knock Knock Knock Surabhi Dey\n",
      "Knock Knock Knock Surabhi Dey\n",
      "Knock Knock Knock Surabhi Dey\n",
      "Knock Knock Knock Surabhi Dey\n",
      "Knock Knock Knock Surabhi Dey\n",
      "Knock Knock Knock Surabhi Dey\n",
      "Knock Knock Knock Surabhi Dey\n",
      "Knock Knock Knock Surabhi Dey\n",
      "Knock Knock Knock Surabhi Dey\n",
      "Knock Knock Knock Surabhi Dey\n",
      "Knock Knock Knock Surabhi Dey\n",
      "Knock Knock Knock Surabhi Dey\n",
      "Knock Knock Knock Surabhi Dey\n",
      "Knock Knock Knock Surabhi Dey\n",
      "Knock Knock Knock Surabhi Dey\n",
      "Knock Knock Knock Surabhi Dey\n",
      "Knock Knock Knock Surabhi Dey\n",
      "Knock Knock Knock Surabhi Dey\n",
      "Knock Knock Knock Surabhi Dey\n",
      "Knock Knock Knock Surabhi Dey\n",
      "Knock Knock Knock Surabhi Dey\n",
      "Knock Knock Knock Surabhi Dey\n",
      "Knock Knock Knock Surabhi Dey\n",
      "Knock Knock Knock Surabhi Dey\n",
      "Knock Knock Knock Surabhi Dey\n",
      "Knock Knock Knock Surabhi Dey\n",
      "Knock Knock Knock Surabhi Dey\n",
      "Knock Knock Knock Surabhi Dey\n",
      "Knock Knock Knock Surabhi Dey\n",
      "Knock Knock Knock Surabhi Dey\n",
      "Knock Knock Knock Surabhi Dey\n",
      "Knock Knock Knock Surabhi Dey\n",
      "Knock Knock Knock Surabhi Dey\n",
      "Knock Knock Knock Surabhi Dey\n",
      "Knock Knock Knock Surabhi Dey\n",
      "Knock Knock Knock Surabhi Dey\n",
      "Knock Knock Knock Surabhi Dey\n",
      "Knock Knock Knock Surabhi Dey\n",
      "Knock Knock Knock Surabhi Dey\n"
     ]
    }
   ],
   "source": [
    "sheldon_knock(\"Surabhi Dey\",100)"
   ]
  },
  {
   "attachments": {},
   "cell_type": "markdown",
   "metadata": {},
   "source": [
    "Return Statement"
   ]
  },
  {
   "cell_type": "code",
   "execution_count": 63,
   "metadata": {},
   "outputs": [],
   "source": [
    "def add(a,b):\n",
    "    return a+b"
   ]
  },
  {
   "cell_type": "code",
   "execution_count": 64,
   "metadata": {},
   "outputs": [],
   "source": [
    "a = add(1, 2)"
   ]
  },
  {
   "cell_type": "code",
   "execution_count": 65,
   "metadata": {},
   "outputs": [
    {
     "name": "stdout",
     "output_type": "stream",
     "text": [
      "3\n"
     ]
    }
   ],
   "source": [
    "print(a)"
   ]
  }
 ],
 "metadata": {
  "kernelspec": {
   "display_name": "Python 3",
   "language": "python",
   "name": "python3"
  },
  "language_info": {
   "codemirror_mode": {
    "name": "ipython",
    "version": 3
   },
   "file_extension": ".py",
   "mimetype": "text/x-python",
   "name": "python",
   "nbconvert_exporter": "python",
   "pygments_lexer": "ipython3",
   "version": "3.10.9 (tags/v3.10.9:1dd9be6, Dec  6 2022, 20:01:21) [MSC v.1934 64 bit (AMD64)]"
  },
  "orig_nbformat": 4,
  "vscode": {
   "interpreter": {
    "hash": "8aaf6190f2ea488e76ce5279ff8f64a665fb1b63574a8c8ad8a31b286a6d13fd"
   }
  }
 },
 "nbformat": 4,
 "nbformat_minor": 2
}
