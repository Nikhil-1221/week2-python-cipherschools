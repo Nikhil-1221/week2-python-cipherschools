{
 "cells": [
  {
   "attachments": {},
   "cell_type": "markdown",
   "metadata": {},
   "source": [
    "# Object oriented Programming(OOP)"
   ]
  },
  {
   "attachments": {},
   "cell_type": "markdown",
   "metadata": {},
   "source": [
    "- Abstraction\n",
    "- Encapsulation\n",
    "- Polymorphism\n",
    "- Inheritance"
   ]
  },
  {
   "attachments": {},
   "cell_type": "markdown",
   "metadata": {},
   "source": [
    "abstraction = need to know basis"
   ]
  },
  {
   "cell_type": "code",
   "execution_count": 16,
   "metadata": {},
   "outputs": [],
   "source": [
    "student1 = {\n",
    "    \"name\":\"Nikhil Kumar Singh\",\n",
    "    \"marks\": 100\n",
    "}\n",
    "student2 = {\n",
    "    \"name\":\"Surabhi Dey\",\n",
    "    \"marks\": 99\n",
    "}"
   ]
  },
  {
   "attachments": {},
   "cell_type": "markdown",
   "metadata": {},
   "source": [
    "A minimal example of a class"
   ]
  },
  {
   "cell_type": "code",
   "execution_count": 17,
   "metadata": {},
   "outputs": [
    {
     "data": {
      "text/plain": [
       "{'__name__': '__main__',\n",
       " '__doc__': 'Automatically created module for IPython interactive environment',\n",
       " '__package__': None,\n",
       " '__loader__': None,\n",
       " '__spec__': None,\n",
       " '__builtin__': <module 'builtins' (built-in)>,\n",
       " '__builtins__': <module 'builtins' (built-in)>,\n",
       " '_ih': ['',\n",
       "  'student1 = {\\n    \"name\":\"Nikhil Kumar Singh\",\\n    \"marks\": 100\\n}\\nstudent2 = {\\n    \"name\":\"Surabhi Dey\",\\n    \"marks\": 99\\n}',\n",
       "  'globals()',\n",
       "  'class Person:\\n    pass\\nP = Person()\\nprint(P)',\n",
       "  'id(P)',\n",
       "  'hex(id(P))',\n",
       "  'a = 1',\n",
       "  'def square(a):\\n    print(a**2)',\n",
       "  'square(a)',\n",
       "  'square(5)',\n",
       "  'a.sq',\n",
       "  'a.sq',\n",
       "  'class Person:\\n    def say_hi(self):\\n        print(\"Hello Everyone !\")\\nP = Person()\\nP.say_hi()',\n",
       "  'class Person:\\n    name = \"Nikhil\"\\n\\n    def say_hi (self):\\n        print(\"Hello Everyone ! I am\",(self.name))\\n\\nP = Person()\\n\\nP.say_hi() # method call\\nPerson.say_hi(P) # function call',\n",
       "  'class Person:\\n    name = \"Nikhil\"\\n\\n    def say_hi (this):\\n        print(\"Hello Everyone ! I am\",(this.name))\\n\\nP = Person()\\n\\nP.say_hi()\\nPerson.say_hi(P)',\n",
       "  'class Person:\\n    def say_hi(self):\\n        self.name=\"Nikhil\"\\n        print(\"Hello, how are you \" + self.name + \" ?\")\\nP = Person()\\nP.say_hi()',\n",
       "  'student1 = {\\n    \"name\":\"Nikhil Kumar Singh\",\\n    \"marks\": 100\\n}\\nstudent2 = {\\n    \"name\":\"Surabhi Dey\",\\n    \"marks\": 99\\n}',\n",
       "  'globals()'],\n",
       " '_oh': {2: {...}, 4: 2310278981632, 5: '0x219e75ba800'},\n",
       " '_dh': [WindowsPath('c:/Users/NIKHI/OneDrive/Desktop/python with cipherschools/Week2'),\n",
       "  WindowsPath('c:/Users/NIKHI/OneDrive/Desktop/python with cipherschools/Week2')],\n",
       " 'In': ['',\n",
       "  'student1 = {\\n    \"name\":\"Nikhil Kumar Singh\",\\n    \"marks\": 100\\n}\\nstudent2 = {\\n    \"name\":\"Surabhi Dey\",\\n    \"marks\": 99\\n}',\n",
       "  'globals()',\n",
       "  'class Person:\\n    pass\\nP = Person()\\nprint(P)',\n",
       "  'id(P)',\n",
       "  'hex(id(P))',\n",
       "  'a = 1',\n",
       "  'def square(a):\\n    print(a**2)',\n",
       "  'square(a)',\n",
       "  'square(5)',\n",
       "  'a.sq',\n",
       "  'a.sq',\n",
       "  'class Person:\\n    def say_hi(self):\\n        print(\"Hello Everyone !\")\\nP = Person()\\nP.say_hi()',\n",
       "  'class Person:\\n    name = \"Nikhil\"\\n\\n    def say_hi (self):\\n        print(\"Hello Everyone ! I am\",(self.name))\\n\\nP = Person()\\n\\nP.say_hi() # method call\\nPerson.say_hi(P) # function call',\n",
       "  'class Person:\\n    name = \"Nikhil\"\\n\\n    def say_hi (this):\\n        print(\"Hello Everyone ! I am\",(this.name))\\n\\nP = Person()\\n\\nP.say_hi()\\nPerson.say_hi(P)',\n",
       "  'class Person:\\n    def say_hi(self):\\n        self.name=\"Nikhil\"\\n        print(\"Hello, how are you \" + self.name + \" ?\")\\nP = Person()\\nP.say_hi()',\n",
       "  'student1 = {\\n    \"name\":\"Nikhil Kumar Singh\",\\n    \"marks\": 100\\n}\\nstudent2 = {\\n    \"name\":\"Surabhi Dey\",\\n    \"marks\": 99\\n}',\n",
       "  'globals()'],\n",
       " 'Out': {2: {...}, 4: 2310278981632, 5: '0x219e75ba800'},\n",
       " 'get_ipython': <bound method InteractiveShell.get_ipython of <ipykernel.zmqshell.ZMQInteractiveShell object at 0x00000219E745E140>>,\n",
       " 'exit': <IPython.core.autocall.ZMQExitAutocall at 0x219e745eb90>,\n",
       " 'quit': <IPython.core.autocall.ZMQExitAutocall at 0x219e745eb90>,\n",
       " 'open': <function io.open(file, mode='r', buffering=-1, encoding=None, errors=None, newline=None, closefd=True, opener=None)>,\n",
       " '_': '0x219e75ba800',\n",
       " '__': 2310278981632,\n",
       " '___': {...},\n",
       " 'os': <module 'os' from 'C:\\\\Program Files\\\\WindowsApps\\\\PythonSoftwareFoundation.Python.3.10_3.10.2544.0_x64__qbz5n2kfra8p0\\\\lib\\\\os.py'>,\n",
       " 'sys': <module 'sys' (built-in)>,\n",
       " '__vsc_ipynb_file__': 'c:\\\\Users\\\\NIKHI\\\\OneDrive\\\\Desktop\\\\python with cipherschools\\\\Week2\\\\Class 17-Introduction to Object Oriented Programming-Cipherschools.ipynb',\n",
       " '_i': 'student1 = {\\n    \"name\":\"Nikhil Kumar Singh\",\\n    \"marks\": 100\\n}\\nstudent2 = {\\n    \"name\":\"Surabhi Dey\",\\n    \"marks\": 99\\n}',\n",
       " '_ii': 'class Person:\\n    def say_hi(self):\\n        self.name=\"Nikhil\"\\n        print(\"Hello, how are you \" + self.name + \" ?\")\\nP = Person()\\nP.say_hi()',\n",
       " '_iii': 'class Person:\\n    name = \"Nikhil\"\\n\\n    def say_hi (this):\\n        print(\"Hello Everyone ! I am\",(this.name))\\n\\nP = Person()\\n\\nP.say_hi()\\nPerson.say_hi(P)',\n",
       " '_i1': 'student1 = {\\n    \"name\":\"Nikhil Kumar Singh\",\\n    \"marks\": 100\\n}\\nstudent2 = {\\n    \"name\":\"Surabhi Dey\",\\n    \"marks\": 99\\n}',\n",
       " 'student1': {'name': 'Nikhil Kumar Singh', 'marks': 100},\n",
       " 'student2': {'name': 'Surabhi Dey', 'marks': 99},\n",
       " '_i2': 'globals()',\n",
       " '_2': {...},\n",
       " '_i3': 'class Person:\\n    pass\\nP = Person()\\nprint(P)',\n",
       " 'Person': __main__.Person,\n",
       " 'P': <__main__.Person at 0x219e7ee51b0>,\n",
       " '_i4': 'id(P)',\n",
       " '_4': 2310278981632,\n",
       " '_i5': 'hex(id(P))',\n",
       " '_5': '0x219e75ba800',\n",
       " '_i6': 'a = 1',\n",
       " 'a': 1,\n",
       " '_i7': 'def square(a):\\n    print(a**2)',\n",
       " 'square': <function __main__.square(a)>,\n",
       " '_i8': 'square(a)',\n",
       " '_i9': 'square(5)',\n",
       " '_i10': 'a.sq',\n",
       " '_i11': 'a.sq',\n",
       " '_i12': 'class Person:\\n    def say_hi(self):\\n        print(\"Hello Everyone !\")\\nP = Person()\\nP.say_hi()',\n",
       " '_i13': 'class Person:\\n    name = \"Nikhil\"\\n\\n    def say_hi (self):\\n        print(\"Hello Everyone ! I am\",(self.name))\\n\\nP = Person()\\n\\nP.say_hi() # method call\\nPerson.say_hi(P) # function call',\n",
       " '_i14': 'class Person:\\n    name = \"Nikhil\"\\n\\n    def say_hi (this):\\n        print(\"Hello Everyone ! I am\",(this.name))\\n\\nP = Person()\\n\\nP.say_hi()\\nPerson.say_hi(P)',\n",
       " '_i15': 'class Person:\\n    def say_hi(self):\\n        self.name=\"Nikhil\"\\n        print(\"Hello, how are you \" + self.name + \" ?\")\\nP = Person()\\nP.say_hi()',\n",
       " '_i16': 'student1 = {\\n    \"name\":\"Nikhil Kumar Singh\",\\n    \"marks\": 100\\n}\\nstudent2 = {\\n    \"name\":\"Surabhi Dey\",\\n    \"marks\": 99\\n}',\n",
       " '_i17': 'globals()'}"
      ]
     },
     "execution_count": 17,
     "metadata": {},
     "output_type": "execute_result"
    }
   ],
   "source": [
    "globals()"
   ]
  },
  {
   "attachments": {},
   "cell_type": "markdown",
   "metadata": {},
   "source": [
    "Python object can have multiple attributes\n",
    "- Callable (e.g. functions and classes)\n",
    "- iterable (e.g. list , string , generator)\n",
    "- contextable (e.g. files)"
   ]
  },
  {
   "cell_type": "code",
   "execution_count": 18,
   "metadata": {},
   "outputs": [
    {
     "name": "stdout",
     "output_type": "stream",
     "text": [
      "<__main__.Person object at 0x00000219E7EE7280>\n"
     ]
    }
   ],
   "source": [
    "class Person:\n",
    "    pass\n",
    "P = Person()\n",
    "print(P)"
   ]
  },
  {
   "cell_type": "code",
   "execution_count": 19,
   "metadata": {},
   "outputs": [
    {
     "data": {
      "text/plain": [
       "2310288601728"
      ]
     },
     "execution_count": 19,
     "metadata": {},
     "output_type": "execute_result"
    }
   ],
   "source": [
    "id(P)"
   ]
  },
  {
   "cell_type": "code",
   "execution_count": 20,
   "metadata": {},
   "outputs": [
    {
     "data": {
      "text/plain": [
       "'0x219e7ee7280'"
      ]
     },
     "execution_count": 20,
     "metadata": {},
     "output_type": "execute_result"
    }
   ],
   "source": [
    "hex(id(P))"
   ]
  },
  {
   "cell_type": "code",
   "execution_count": 21,
   "metadata": {},
   "outputs": [],
   "source": [
    "a = 1"
   ]
  },
  {
   "cell_type": "code",
   "execution_count": 22,
   "metadata": {},
   "outputs": [],
   "source": [
    "def square(a):\n",
    "    print(a**2)"
   ]
  },
  {
   "cell_type": "code",
   "execution_count": 23,
   "metadata": {},
   "outputs": [
    {
     "name": "stdout",
     "output_type": "stream",
     "text": [
      "1\n"
     ]
    }
   ],
   "source": [
    "square(a)"
   ]
  },
  {
   "cell_type": "code",
   "execution_count": 24,
   "metadata": {},
   "outputs": [
    {
     "name": "stdout",
     "output_type": "stream",
     "text": [
      "25\n"
     ]
    }
   ],
   "source": [
    "square(5)"
   ]
  },
  {
   "attachments": {},
   "cell_type": "markdown",
   "metadata": {},
   "source": [
    "# Class with a method"
   ]
  },
  {
   "cell_type": "code",
   "execution_count": 25,
   "metadata": {},
   "outputs": [
    {
     "name": "stdout",
     "output_type": "stream",
     "text": [
      "Hello Everyone !\n"
     ]
    }
   ],
   "source": [
    "class Person:\n",
    "    def say_hi(self):\n",
    "        print(\"Hello Everyone !\")\n",
    "P = Person()\n",
    "P.say_hi()"
   ]
  },
  {
   "cell_type": "code",
   "execution_count": 26,
   "metadata": {},
   "outputs": [
    {
     "name": "stdout",
     "output_type": "stream",
     "text": [
      "Hello Everyone ! I am Nikhil\n",
      "Hello Everyone ! I am Nikhil\n"
     ]
    }
   ],
   "source": [
    "class Person:\n",
    "    name = \"Nikhil\"\n",
    "\n",
    "    def say_hi (self):\n",
    "        print(\"Hello Everyone ! I am\",(self.name))\n",
    "\n",
    "P = Person()\n",
    "\n",
    "P.say_hi() # method call\n",
    "Person.say_hi(P) # function call"
   ]
  },
  {
   "cell_type": "code",
   "execution_count": 27,
   "metadata": {},
   "outputs": [
    {
     "name": "stdout",
     "output_type": "stream",
     "text": [
      "Hello Everyone ! I am Nikhil\n",
      "Hello Everyone ! I am Nikhil\n"
     ]
    }
   ],
   "source": [
    "class Person:\n",
    "    name = \"Nikhil\"\n",
    "\n",
    "    def say_hi (this):\n",
    "        print(\"Hello Everyone ! I am\",(this.name))\n",
    "\n",
    "P = Person()\n",
    "\n",
    "P.say_hi()\n",
    "Person.say_hi(P)"
   ]
  },
  {
   "cell_type": "code",
   "execution_count": 28,
   "metadata": {},
   "outputs": [
    {
     "name": "stdout",
     "output_type": "stream",
     "text": [
      "Hello, how are you Nikhil ?\n"
     ]
    }
   ],
   "source": [
    "class Person:\n",
    "    def say_hi(self):\n",
    "        self.name=\"Nikhil\"\n",
    "        print(\"Hello, how are you \" + self.name + \" ?\")\n",
    "P = Person()\n",
    "P.say_hi()"
   ]
  }
 ],
 "metadata": {
  "kernelspec": {
   "display_name": "Python 3",
   "language": "python",
   "name": "python3"
  },
  "language_info": {
   "codemirror_mode": {
    "name": "ipython",
    "version": 3
   },
   "file_extension": ".py",
   "mimetype": "text/x-python",
   "name": "python",
   "nbconvert_exporter": "python",
   "pygments_lexer": "ipython3",
   "version": "3.10.9"
  },
  "orig_nbformat": 4,
  "vscode": {
   "interpreter": {
    "hash": "8aaf6190f2ea488e76ce5279ff8f64a665fb1b63574a8c8ad8a31b286a6d13fd"
   }
  }
 },
 "nbformat": 4,
 "nbformat_minor": 2
}
